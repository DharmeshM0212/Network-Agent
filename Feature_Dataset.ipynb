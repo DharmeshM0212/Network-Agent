{
 "cells": [
  {
   "cell_type": "code",
   "execution_count": 11,
   "id": "6fcfbdc9",
   "metadata": {},
   "outputs": [
    {
     "name": "stdout",
     "output_type": "stream",
     "text": [
      "   Time     SNR_dB       BER  PacketLoss_pct  Jitter_ms  Throughput_Mbps  \\\n",
      "0   0.0  11.745401  0.011870       10.000000   6.295377        18.000000   \n",
      "1   0.1  11.952030  0.011038       10.000000   8.158426        18.000000   \n",
      "2   0.2  13.952993  0.005201        5.404370   4.073165        18.919126   \n",
      "3   0.3  13.666555  0.005837        5.985701   2.974338        18.802860   \n",
      "4   0.4  13.332166  0.007444        7.701205   5.135056        18.459759   \n",
      "\n",
      "      Label  \n",
      "0  Moderate  \n",
      "1  Moderate  \n",
      "2  Moderate  \n",
      "3  Moderate  \n",
      "4  Moderate  \n",
      "<class 'pandas.core.frame.DataFrame'>\n",
      "RangeIndex: 15000 entries, 0 to 14999\n",
      "Data columns (total 7 columns):\n",
      " #   Column           Non-Null Count  Dtype  \n",
      "---  ------           --------------  -----  \n",
      " 0   Time             15000 non-null  float64\n",
      " 1   SNR_dB           15000 non-null  float64\n",
      " 2   BER              15000 non-null  float64\n",
      " 3   PacketLoss_pct   15000 non-null  float64\n",
      " 4   Jitter_ms        15000 non-null  float64\n",
      " 5   Throughput_Mbps  15000 non-null  float64\n",
      " 6   Label            15000 non-null  object \n",
      "dtypes: float64(6), object(1)\n",
      "memory usage: 820.4+ KB\n",
      "None\n",
      "Label\n",
      "Poor        7505\n",
      "Moderate    3999\n",
      "Good        3496\n",
      "Name: count, dtype: int64\n"
     ]
    }
   ],
   "source": [
    "import pandas as pd\n",
    "import numpy as np  \n",
    "\n",
    "df=pd.read_csv(\"C:/Users/DHARMESH M/Documents/Projects/SIG-COG/Dataset/synthetic_link_dataset_balanced.csv\")\n",
    "print(df.head(5))\n",
    "print(df.info())\n",
    "print(df['Label'].value_counts())"
   ]
  },
  {
   "cell_type": "code",
   "execution_count": 12,
   "id": "f6aa58df",
   "metadata": {},
   "outputs": [
    {
     "name": "stdout",
     "output_type": "stream",
     "text": [
      "Updated dataset with DSP features saved as: C:\\Users\\DHARMESH M\\Documents\\Projects\\SIG-COG\\Dataset\\features_dataset.csv\n",
      "    Time     SNR_dB       BER  PacketLoss_pct  Jitter_ms  Throughput_Mbps  \\\n",
      "0    0.0  11.745401  0.011870       10.000000   6.295377        18.000000   \n",
      "1    0.1  11.952030  0.011038       10.000000   8.158426        18.000000   \n",
      "2    0.2  13.952993  0.005201        5.404370   4.073165        18.919126   \n",
      "3    0.3  13.666555  0.005837        5.985701   2.974338        18.802860   \n",
      "4    0.4  13.332166  0.007444        7.701205   5.135056        18.459759   \n",
      "5    0.5   7.572576  0.040192       10.000000  18.536691        18.000000   \n",
      "6    0.6   7.127717  0.046534       10.000000  11.737326        18.000000   \n",
      "7    0.7   6.542258  0.056848       10.000000  17.333775        18.000000   \n",
      "8    0.8   5.685849  0.075681       10.000000   9.530218        18.000000   \n",
      "9    0.9   5.821197  0.073428       10.000000  16.704537        18.000000   \n",
      "10   1.0   6.283887  0.061706       10.000000  12.313908        18.000000   \n",
      "11   1.1   7.907236  0.036455       10.000000  12.868393        18.000000   \n",
      "12   1.2  18.291889  0.002247        2.576584   6.591191        19.484683   \n",
      "13   1.3  17.270220  0.002209        2.429512   4.401985        19.514098   \n",
      "14   1.4  17.682008  0.001836        2.033731   3.963460        19.593254   \n",
      "15   1.5  17.004728  0.003334        3.617184   5.657502        19.276563   \n",
      "16   1.6  16.775527  0.002320        2.537180   4.344676        19.492564   \n",
      "17   1.7  16.589408  0.002818        3.044749   4.530826        19.391050   \n",
      "18   1.8  15.178139  0.004212        4.502735   5.808102        19.099453   \n",
      "19   1.9   7.994435  0.035408       10.000000  11.954142        18.000000   \n",
      "\n",
      "       Label  SNR_trend  Jitter_spike  \n",
      "0   Moderate   0.000000             0  \n",
      "1   Moderate   0.206629             0  \n",
      "2   Moderate   2.000964             0  \n",
      "3   Moderate  -0.286438             0  \n",
      "4   Moderate  -0.334389             0  \n",
      "5       Poor  -5.759590             0  \n",
      "6       Poor  -0.444859             0  \n",
      "7       Poor  -0.585459             0  \n",
      "8       Poor  -0.856410             0  \n",
      "9       Poor   0.135348             0  \n",
      "10      Poor   0.462690             0  \n",
      "11  Moderate   1.623349             0  \n",
      "12      Good  10.384653             0  \n",
      "13  Moderate  -1.021669             0  \n",
      "14  Moderate   0.411787             0  \n",
      "15  Moderate  -0.677280             0  \n",
      "16  Moderate  -0.229200             0  \n",
      "17  Moderate  -0.186119             0  \n",
      "18  Moderate  -1.411269             0  \n",
      "19      Poor  -7.183704             0  \n"
     ]
    }
   ],
   "source": [
    "df['SNR_trend']=df['SNR_dB'].diff().fillna(0)\n",
    "df['Jitter_spike']= (df['Jitter_ms']>20).astype(int)\n",
    "updated_path = r\"C:\\Users\\DHARMESH M\\Documents\\Projects\\SIG-COG\\Dataset\\features_dataset.csv\"\n",
    "df.to_csv(updated_path, index=False)\n",
    "print(\"Updated dataset with DSP features saved as:\", updated_path)\n",
    "print(df.head(20))"
   ]
  },
  {
   "cell_type": "code",
   "execution_count": null,
   "id": "6aa5c63b",
   "metadata": {},
   "outputs": [],
   "source": []
  }
 ],
 "metadata": {
  "kernelspec": {
   "display_name": "Python 3",
   "language": "python",
   "name": "python3"
  },
  "language_info": {
   "codemirror_mode": {
    "name": "ipython",
    "version": 3
   },
   "file_extension": ".py",
   "mimetype": "text/x-python",
   "name": "python",
   "nbconvert_exporter": "python",
   "pygments_lexer": "ipython3",
   "version": "3.11.9"
  }
 },
 "nbformat": 4,
 "nbformat_minor": 5
}
