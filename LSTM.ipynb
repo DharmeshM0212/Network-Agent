{
 "cells": [
  {
   "cell_type": "code",
   "execution_count": 19,
   "id": "7f38a7ab",
   "metadata": {},
   "outputs": [
    {
     "name": "stdout",
     "output_type": "stream",
     "text": [
      "Class order: ['Good' 'Moderate' 'Poor']\n",
      "Shape of X_seq: (14986, 15, 7)\n",
      "Shape of y_seq: (14986,)\n"
     ]
    }
   ],
   "source": [
    "import pandas as pd\n",
    "import numpy as np\n",
    "from sklearn.preprocessing import LabelEncoder , StandardScaler\n",
    "\n",
    "df=pd.read_csv(r\"C:\\Users\\DHARMESH M\\Documents\\Projects\\SIG-COG\\Dataset\\features_dataset.csv\")\n",
    "\n",
    "features=['SNR_dB','BER','PacketLoss_pct','Jitter_ms','Throughput_Mbps','SNR_trend','Jitter_spike']\n",
    "y_label=df['Label'].values\n",
    "X_raw=df[features].values\n",
    "\n",
    "scalar = StandardScaler()\n",
    "X = scalar.fit_transform(X_raw)\n",
    "\n",
    "label_encoder = LabelEncoder()\n",
    "label_encoder.fit(y_label)  # First, fit it\n",
    "\n",
    "print(\"Class order:\", label_encoder.classes_)  # Now this works\n",
    "\n",
    "y = label_encoder.transform(y_label)\n",
    "\n",
    "\n",
    "window_size=15\n",
    "x_seq=[]\n",
    "y_seq=[]\n",
    "\n",
    "for i in range(len(X)-window_size+1):\n",
    "    window= X[i:i+window_size]\n",
    "    label = y[i+window_size-1]\n",
    "    x_seq.append(window)\n",
    "    y_seq.append(label)\n",
    "\n",
    "X_seq= np.array(x_seq)\n",
    "y_seq = np.array(y_seq)\n",
    "print(\"Shape of X_seq:\", X_seq.shape)\n",
    "print(\"Shape of y_seq:\", y_seq.shape)"
   ]
  },
  {
   "cell_type": "code",
   "execution_count": 20,
   "id": "924071ee",
   "metadata": {},
   "outputs": [],
   "source": [
    "import sklearn.model_selection as model_selection\n",
    "X_train, X_test, y_train, y_test = model_selection.train_test_split(X_seq, y_seq, test_size=0.2, shuffle=False)"
   ]
  },
  {
   "cell_type": "code",
   "execution_count": 7,
   "id": "476718d7",
   "metadata": {},
   "outputs": [
    {
     "name": "stdout",
     "output_type": "stream",
     "text": [
      "Requirement already satisfied: tensorflow.keras in c:\\users\\dharmesh m\\appdata\\local\\programs\\python\\python311\\lib\\site-packages (0.1)\n",
      "Note: you may need to restart the kernel to use updated packages.\n"
     ]
    },
    {
     "name": "stderr",
     "output_type": "stream",
     "text": [
      "\n",
      "[notice] A new release of pip is available: 24.0 -> 25.2\n",
      "[notice] To update, run: python.exe -m pip install --upgrade pip\n"
     ]
    }
   ],
   "source": [
    "pip install tensorflow.keras\n"
   ]
  },
  {
   "cell_type": "code",
   "execution_count": 21,
   "id": "a82f63c4",
   "metadata": {},
   "outputs": [
    {
     "name": "stdout",
     "output_type": "stream",
     "text": [
      "Epoch 1/15\n"
     ]
    },
    {
     "name": "stderr",
     "output_type": "stream",
     "text": [
      "c:\\Users\\DHARMESH M\\AppData\\Local\\Programs\\Python\\Python311\\Lib\\site-packages\\keras\\src\\layers\\rnn\\rnn.py:200: UserWarning: Do not pass an `input_shape`/`input_dim` argument to a layer. When using Sequential models, prefer using an `Input(shape)` object as the first layer in the model instead.\n",
      "  super().__init__(**kwargs)\n"
     ]
    },
    {
     "name": "stdout",
     "output_type": "stream",
     "text": [
      "\u001b[1m188/188\u001b[0m \u001b[32m━━━━━━━━━━━━━━━━━━━━\u001b[0m\u001b[37m\u001b[0m \u001b[1m6s\u001b[0m 21ms/step - accuracy: 0.6434 - loss: 0.7707 - val_accuracy: 0.9733 - val_loss: 0.1186\n",
      "Epoch 2/15\n",
      "\u001b[1m188/188\u001b[0m \u001b[32m━━━━━━━━━━━━━━━━━━━━\u001b[0m\u001b[37m\u001b[0m \u001b[1m4s\u001b[0m 19ms/step - accuracy: 0.9712 - loss: 0.1045 - val_accuracy: 0.9797 - val_loss: 0.0570\n",
      "Epoch 3/15\n",
      "\u001b[1m188/188\u001b[0m \u001b[32m━━━━━━━━━━━━━━━━━━━━\u001b[0m\u001b[37m\u001b[0m \u001b[1m5s\u001b[0m 27ms/step - accuracy: 0.9781 - loss: 0.0640 - val_accuracy: 0.9790 - val_loss: 0.0499\n",
      "Epoch 4/15\n",
      "\u001b[1m188/188\u001b[0m \u001b[32m━━━━━━━━━━━━━━━━━━━━\u001b[0m\u001b[37m\u001b[0m \u001b[1m7s\u001b[0m 39ms/step - accuracy: 0.9800 - loss: 0.0530 - val_accuracy: 0.9843 - val_loss: 0.0401\n",
      "Epoch 5/15\n",
      "\u001b[1m188/188\u001b[0m \u001b[32m━━━━━━━━━━━━━━━━━━━━\u001b[0m\u001b[37m\u001b[0m \u001b[1m7s\u001b[0m 38ms/step - accuracy: 0.9824 - loss: 0.0456 - val_accuracy: 0.9850 - val_loss: 0.0410\n",
      "Epoch 6/15\n",
      "\u001b[1m188/188\u001b[0m \u001b[32m━━━━━━━━━━━━━━━━━━━━\u001b[0m\u001b[37m\u001b[0m \u001b[1m7s\u001b[0m 37ms/step - accuracy: 0.9816 - loss: 0.0479 - val_accuracy: 0.9843 - val_loss: 0.0403\n",
      "Epoch 7/15\n",
      "\u001b[1m188/188\u001b[0m \u001b[32m━━━━━━━━━━━━━━━━━━━━\u001b[0m\u001b[37m\u001b[0m \u001b[1m7s\u001b[0m 37ms/step - accuracy: 0.9833 - loss: 0.0444 - val_accuracy: 0.9843 - val_loss: 0.0377\n",
      "Epoch 8/15\n",
      "\u001b[1m188/188\u001b[0m \u001b[32m━━━━━━━━━━━━━━━━━━━━\u001b[0m\u001b[37m\u001b[0m \u001b[1m10s\u001b[0m 36ms/step - accuracy: 0.9825 - loss: 0.0462 - val_accuracy: 0.9853 - val_loss: 0.0413\n",
      "Epoch 9/15\n",
      "\u001b[1m188/188\u001b[0m \u001b[32m━━━━━━━━━━━━━━━━━━━━\u001b[0m\u001b[37m\u001b[0m \u001b[1m10s\u001b[0m 33ms/step - accuracy: 0.9851 - loss: 0.0392 - val_accuracy: 0.9857 - val_loss: 0.0358\n",
      "Epoch 10/15\n",
      "\u001b[1m188/188\u001b[0m \u001b[32m━━━━━━━━━━━━━━━━━━━━\u001b[0m\u001b[37m\u001b[0m \u001b[1m6s\u001b[0m 31ms/step - accuracy: 0.9841 - loss: 0.0390 - val_accuracy: 0.9793 - val_loss: 0.0527\n",
      "Epoch 11/15\n",
      "\u001b[1m188/188\u001b[0m \u001b[32m━━━━━━━━━━━━━━━━━━━━\u001b[0m\u001b[37m\u001b[0m \u001b[1m6s\u001b[0m 33ms/step - accuracy: 0.9855 - loss: 0.0377 - val_accuracy: 0.9837 - val_loss: 0.0414\n",
      "Epoch 12/15\n",
      "\u001b[1m188/188\u001b[0m \u001b[32m━━━━━━━━━━━━━━━━━━━━\u001b[0m\u001b[37m\u001b[0m \u001b[1m10s\u001b[0m 32ms/step - accuracy: 0.9865 - loss: 0.0398 - val_accuracy: 0.9823 - val_loss: 0.0397\n",
      "Epoch 13/15\n",
      "\u001b[1m188/188\u001b[0m \u001b[32m━━━━━━━━━━━━━━━━━━━━\u001b[0m\u001b[37m\u001b[0m \u001b[1m6s\u001b[0m 32ms/step - accuracy: 0.9857 - loss: 0.0361 - val_accuracy: 0.9860 - val_loss: 0.0359\n",
      "Epoch 14/15\n",
      "\u001b[1m188/188\u001b[0m \u001b[32m━━━━━━━━━━━━━━━━━━━━\u001b[0m\u001b[37m\u001b[0m \u001b[1m6s\u001b[0m 33ms/step - accuracy: 0.9847 - loss: 0.0366 - val_accuracy: 0.9770 - val_loss: 0.0556\n",
      "Epoch 15/15\n",
      "\u001b[1m188/188\u001b[0m \u001b[32m━━━━━━━━━━━━━━━━━━━━\u001b[0m\u001b[37m\u001b[0m \u001b[1m6s\u001b[0m 32ms/step - accuracy: 0.9855 - loss: 0.0360 - val_accuracy: 0.9823 - val_loss: 0.0406\n"
     ]
    },
    {
     "name": "stderr",
     "output_type": "stream",
     "text": [
      "WARNING:absl:You are saving your model as an HDF5 file via `model.save()` or `keras.saving.save_model(model)`. This file format is considered legacy. We recommend using instead the native Keras format, e.g. `model.save('my_model.keras')` or `keras.saving.save_model(model, 'my_model.keras')`. \n"
     ]
    }
   ],
   "source": [
    "from tensorflow.keras.models import Sequential\n",
    "from tensorflow.keras.layers import LSTM, Dense, Dropout\n",
    "\n",
    "num_classes = len(np.unique(y_seq))\n",
    "\n",
    "model = Sequential([\n",
    "    LSTM(64, return_sequences=True, input_shape=(window_size, X_seq.shape[2])),\n",
    "    Dropout(0.2),\n",
    "    LSTM(32),\n",
    "    Dense(num_classes, activation='softmax')\n",
    "])\n",
    "\n",
    "model.compile(optimizer='adam', loss='sparse_categorical_crossentropy', metrics=['accuracy'])\n",
    "\n",
    "history = model.fit(\n",
    "    X_train, y_train,\n",
    "    validation_data=(X_test, y_test),\n",
    "    epochs=15,\n",
    "    batch_size=64,\n",
    "    verbose=1\n",
    ")\n",
    "\n",
    "model.save(\"link_state_lstm.h5\")"
   ]
  },
  {
   "cell_type": "code",
   "execution_count": 22,
   "id": "9389fe0c",
   "metadata": {},
   "outputs": [
    {
     "name": "stdout",
     "output_type": "stream",
     "text": [
      "\u001b[1m94/94\u001b[0m \u001b[32m━━━━━━━━━━━━━━━━━━━━\u001b[0m\u001b[37m\u001b[0m \u001b[1m1s\u001b[0m 6ms/step - accuracy: 0.9804 - loss: 0.0436\n",
      "Test Accuracy: 98.23%\n"
     ]
    }
   ],
   "source": [
    "test_loss, test_acc = model.evaluate(X_test, y_test)\n",
    "print(f\"Test Accuracy: {test_acc*100:.2f}%\")\n"
   ]
  },
  {
   "cell_type": "code",
   "execution_count": null,
   "id": "d646a1a5",
   "metadata": {},
   "outputs": [],
   "source": []
  }
 ],
 "metadata": {
  "kernelspec": {
   "display_name": "Python 3",
   "language": "python",
   "name": "python3"
  },
  "language_info": {
   "codemirror_mode": {
    "name": "ipython",
    "version": 3
   },
   "file_extension": ".py",
   "mimetype": "text/x-python",
   "name": "python",
   "nbconvert_exporter": "python",
   "pygments_lexer": "ipython3",
   "version": "3.11.9"
  }
 },
 "nbformat": 4,
 "nbformat_minor": 5
}
